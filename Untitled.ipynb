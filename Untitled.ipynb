{
 "cells": [
  {
   "cell_type": "code",
   "execution_count": 1,
   "metadata": {},
   "outputs": [],
   "source": [
    "import pandas as pd\n",
    "import pandas_datareader as pdr\n",
    "import datetime \n",
    "import pytz\n",
    "import numpy as np\n",
    "import matplotlib.pylab as plt\n",
    "from feature_calc import calc_fourier_transform, get_ticker_data, calc_bollinger_bands, calc_rsi_ewma_sma\n",
    "from sklearn.preprocessing import MinMaxScaler\n",
    "from sklearn.ensemble import RandomForestRegressor\n",
    "from sklearn.model_selection import cross_val_score, train_test_split\n",
    "from sklearn.model_selection import RandomizedSearchCV\n",
    "from sklearn.metrics import mean_squared_error\n",
    "import seaborn as sns"
   ]
  },
  {
   "cell_type": "code",
   "execution_count": 2,
   "metadata": {},
   "outputs": [],
   "source": [
    "start = '01-24-2020'\n",
    "end = '01-24-2021'"
   ]
  },
  {
   "cell_type": "code",
   "execution_count": 8,
   "metadata": {},
   "outputs": [
    {
     "ename": "TypeError",
     "evalue": "get_ticker_data() takes 3 positional arguments but 4 were given",
     "output_type": "error",
     "traceback": [
      "\u001b[0;31m---------------------------------------------------------------------------\u001b[0m",
      "\u001b[0;31mTypeError\u001b[0m                                 Traceback (most recent call last)",
      "\u001b[0;32m<ipython-input-8-ae2a5f398602>\u001b[0m in \u001b[0;36m<module>\u001b[0;34m\u001b[0m\n\u001b[0;32m----> 1\u001b[0;31m \u001b[0mtsla_df\u001b[0m \u001b[0;34m=\u001b[0m \u001b[0mget_ticker_data\u001b[0m\u001b[0;34m(\u001b[0m\u001b[0mpdr\u001b[0m\u001b[0;34m,\u001b[0m \u001b[0mstart\u001b[0m\u001b[0;34m,\u001b[0m \u001b[0mend\u001b[0m\u001b[0;34m,\u001b[0m \u001b[0;34m'TSLA'\u001b[0m\u001b[0;34m)\u001b[0m\u001b[0;34m\u001b[0m\u001b[0;34m\u001b[0m\u001b[0m\n\u001b[0m\u001b[1;32m      2\u001b[0m \u001b[0;34m\u001b[0m\u001b[0m\n\u001b[1;32m      3\u001b[0m \u001b[0mvix\u001b[0m \u001b[0;34m=\u001b[0m \u001b[0mpdr\u001b[0m\u001b[0;34m.\u001b[0m\u001b[0mDataReader\u001b[0m\u001b[0;34m(\u001b[0m\u001b[0;34m\"VIXCLS\"\u001b[0m\u001b[0;34m,\u001b[0m \u001b[0;34m\"fred\"\u001b[0m\u001b[0;34m,\u001b[0m \u001b[0mstart\u001b[0m\u001b[0;34m,\u001b[0m \u001b[0mend\u001b[0m\u001b[0;34m)\u001b[0m\u001b[0;34m\u001b[0m\u001b[0;34m\u001b[0m\u001b[0m\n\u001b[1;32m      4\u001b[0m \u001b[0mRSI_EWMA\u001b[0m\u001b[0;34m,\u001b[0m \u001b[0mRSI_SMA\u001b[0m \u001b[0;34m=\u001b[0m \u001b[0mcalc_rsi_ewma_sma\u001b[0m\u001b[0;34m(\u001b[0m\u001b[0mtsla_df\u001b[0m\u001b[0;34m[\u001b[0m\u001b[0;34m'Close'\u001b[0m\u001b[0;34m]\u001b[0m\u001b[0;34m,\u001b[0m \u001b[0;36m14\u001b[0m\u001b[0;34m)\u001b[0m\u001b[0;34m\u001b[0m\u001b[0;34m\u001b[0m\u001b[0m\n\u001b[1;32m      5\u001b[0m \u001b[0;34m\u001b[0m\u001b[0m\n",
      "\u001b[0;31mTypeError\u001b[0m: get_ticker_data() takes 3 positional arguments but 4 were given"
     ]
    }
   ],
   "source": [
    "tsla_df = get_ticker_data(pdr, start, end, 'TSLA')\n",
    "\n",
    "vix = pdr.DataReader(\"VIXCLS\", \"fred\", start, end)\n",
    "RSI_EWMA, RSI_SMA = calc_rsi_ewma_sma(tsla_df['Close'], 14)\n",
    "\n",
    "tsla_df['rsi_ewma'] = RSI_EWMA\n",
    "tsla_df['rsi_sma'] = RSI_SMA\n",
    "\n",
    "tsla_df['vix'] = vix['VIXCLS']\n",
    "\n",
    "tsla_df['2_SMA'] = tsla_df['Close'].rolling(window=2).mean()\n",
    "tsla_df['5_SMA'] = tsla_df['Close'].rolling(window=5).mean()\n",
    "\n",
    "tsla_df['upper_band'], tsla_df['lower_band'] = calc_bollinger_bands(tsla_df)\n",
    "\n",
    "#tsla_df = tsla_df[tsla_df['5_SMA'].notna()]\n",
    "print('No missing data') if sum(tesla_df.isna().sum()) == 0 else tesla_df.isna().sum()\n"
   ]
  },
  {
   "cell_type": "code",
   "execution_count": null,
   "metadata": {},
   "outputs": [],
   "source": [
    "sentiment_df = pd.read_csv('test_quant.csv')\n",
    "sentiment_df.index = pd.to_datetime(sentiment_df['date'])\n",
    "sentiment_df.drop(columns=['date'])"
   ]
  }
 ],
 "metadata": {
  "kernelspec": {
   "display_name": "Python 3",
   "language": "python",
   "name": "python3"
  },
  "language_info": {
   "codemirror_mode": {
    "name": "ipython",
    "version": 3
   },
   "file_extension": ".py",
   "mimetype": "text/x-python",
   "name": "python",
   "nbconvert_exporter": "python",
   "pygments_lexer": "ipython3",
   "version": "3.7.4"
  }
 },
 "nbformat": 4,
 "nbformat_minor": 2
}
