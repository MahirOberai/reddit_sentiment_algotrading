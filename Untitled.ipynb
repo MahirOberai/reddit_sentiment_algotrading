{
 "cells": [
  {
   "cell_type": "code",
   "execution_count": 1,
   "metadata": {},
   "outputs": [],
   "source": [
    "import pandas as pd\n",
    "import pandas_datareader as pdr\n",
    "import datetime \n",
    "import pytz\n",
    "import numpy as np\n",
    "import matplotlib.pylab as plt\n",
    "from feature_calc import calc_fourier_transform, calc_bollinger_bands, calc_rsi_ewma_sma\n",
    "from sklearn.preprocessing import MinMaxScaler\n",
    "from sklearn.ensemble import RandomForestRegressor\n",
    "from sklearn.model_selection import cross_val_score, train_test_split\n",
    "from sklearn.model_selection import RandomizedSearchCV\n",
    "from sklearn.metrics import mean_squared_error\n",
    "import seaborn as sns"
   ]
  },
  {
   "cell_type": "code",
   "execution_count": 2,
   "metadata": {},
   "outputs": [],
   "source": [
    "start = '01-24-2020'\n",
    "end = '01-24-2021'"
   ]
  },
  {
   "cell_type": "code",
   "execution_count": 3,
   "metadata": {},
   "outputs": [],
   "source": [
    "def get_ticker_data(start, end, ticker):\n",
    "    \"\"\"\n",
    "    Get historical OHLC data for given date range and ticker.\n",
    "    Tries to get from Investors Exchange (IEX), but falls back\n",
    "    to Yahoo! Finance if IEX doesn't have it.\n",
    "\n",
    "    Parameter:\n",
    "        - ticker: The stock symbol to lookup as a string.\n",
    "\n",
    "    Returns:\n",
    "        A pandas dataframe with the stock data.\n",
    "    \"\"\"\n",
    "    try:\n",
    "        print('Getting ticker historical data from IEX')\n",
    "        data = pdr.DataReader(ticker, 'iex', start, end)\n",
    "        data.index = pd.to_datetime(data.index)\n",
    "    except:\n",
    "        print('Getting ticker historical data from Yahoo')\n",
    "        data = pdr.get_data_yahoo(ticker, start, end)\n",
    "    return data "
   ]
  },
  {
   "cell_type": "code",
   "execution_count": 4,
   "metadata": {},
   "outputs": [
    {
     "name": "stdout",
     "output_type": "stream",
     "text": [
      "Getting ticker historical data from IEX\n",
      "Getting ticker historical data from Yahoo\n"
     ]
    },
    {
     "data": {
      "text/plain": [
       "High          0\n",
       "Low           0\n",
       "Open          0\n",
       "Close         0\n",
       "Volume        0\n",
       "Adj Close     0\n",
       "return        0\n",
       "rsi_ewma      1\n",
       "rsi_sma      14\n",
       "vix           1\n",
       "2_SMA         1\n",
       "5_SMA         4\n",
       "14_SMA       13\n",
       "dtype: int64"
      ]
     },
     "execution_count": 4,
     "metadata": {},
     "output_type": "execute_result"
    }
   ],
   "source": [
    "tsla_df = get_ticker_data(start, end, 'TSLA')\n",
    "\n",
    "vix = pdr.DataReader(\"VIXCLS\", \"fred\", start, end)\n",
    "\n",
    "RSI_EWMA, RSI_SMA = calc_rsi_ewma_sma(tsla_df['Close'], 14)\n",
    "\n",
    "tsla_df['return'] = round(tsla_df['Close'] / tsla_df['Open'] - 1, 3)\n",
    "\n",
    "tsla_df['rsi_ewma'] = RSI_EWMA\n",
    "tsla_df['rsi_sma'] = RSI_SMA\n",
    "\n",
    "tsla_df['vix'] = vix['VIXCLS']\n",
    "\n",
    "tsla_df['2_SMA'] = tsla_df['Close'].rolling(window=2).mean()\n",
    "tsla_df['5_SMA'] = tsla_df['Close'].rolling(window=5).mean()\n",
    "tsla_df['14_SMA'] = tsla_df['Close'].rolling(window=14).mean()\n",
    "\n",
    "#tsla_df = tsla_df[tsla_df['5_SMA'].notna()]\n",
    "print('No missing data') if sum(tsla_df.isna().sum()) == 0 else tsla_df.isna().sum()\n"
   ]
  },
  {
   "cell_type": "code",
   "execution_count": 5,
   "metadata": {},
   "outputs": [
    {
     "data": {
      "text/html": [
       "<div>\n",
       "<style scoped>\n",
       "    .dataframe tbody tr th:only-of-type {\n",
       "        vertical-align: middle;\n",
       "    }\n",
       "\n",
       "    .dataframe tbody tr th {\n",
       "        vertical-align: top;\n",
       "    }\n",
       "\n",
       "    .dataframe thead th {\n",
       "        text-align: right;\n",
       "    }\n",
       "</style>\n",
       "<table border=\"1\" class=\"dataframe\">\n",
       "  <thead>\n",
       "    <tr style=\"text-align: right;\">\n",
       "      <th></th>\n",
       "      <th>score</th>\n",
       "    </tr>\n",
       "    <tr>\n",
       "      <th>date</th>\n",
       "      <th></th>\n",
       "    </tr>\n",
       "  </thead>\n",
       "  <tbody>\n",
       "    <tr>\n",
       "      <td>2020-01-24</td>\n",
       "      <td>0.129773</td>\n",
       "    </tr>\n",
       "    <tr>\n",
       "      <td>2020-01-25</td>\n",
       "      <td>0.053467</td>\n",
       "    </tr>\n",
       "    <tr>\n",
       "      <td>2020-01-26</td>\n",
       "      <td>0.104808</td>\n",
       "    </tr>\n",
       "    <tr>\n",
       "      <td>2020-01-27</td>\n",
       "      <td>0.027857</td>\n",
       "    </tr>\n",
       "    <tr>\n",
       "      <td>2020-01-28</td>\n",
       "      <td>0.097155</td>\n",
       "    </tr>\n",
       "    <tr>\n",
       "      <td>...</td>\n",
       "      <td>...</td>\n",
       "    </tr>\n",
       "    <tr>\n",
       "      <td>2021-01-20</td>\n",
       "      <td>0.094663</td>\n",
       "    </tr>\n",
       "    <tr>\n",
       "      <td>2021-01-21</td>\n",
       "      <td>0.097823</td>\n",
       "    </tr>\n",
       "    <tr>\n",
       "      <td>2021-01-22</td>\n",
       "      <td>0.111602</td>\n",
       "    </tr>\n",
       "    <tr>\n",
       "      <td>2021-01-23</td>\n",
       "      <td>0.199899</td>\n",
       "    </tr>\n",
       "    <tr>\n",
       "      <td>2021-01-24</td>\n",
       "      <td>0.203383</td>\n",
       "    </tr>\n",
       "  </tbody>\n",
       "</table>\n",
       "<p>366 rows × 1 columns</p>\n",
       "</div>"
      ],
      "text/plain": [
       "               score\n",
       "date                \n",
       "2020-01-24  0.129773\n",
       "2020-01-25  0.053467\n",
       "2020-01-26  0.104808\n",
       "2020-01-27  0.027857\n",
       "2020-01-28  0.097155\n",
       "...              ...\n",
       "2021-01-20  0.094663\n",
       "2021-01-21  0.097823\n",
       "2021-01-22  0.111602\n",
       "2021-01-23  0.199899\n",
       "2021-01-24  0.203383\n",
       "\n",
       "[366 rows x 1 columns]"
      ]
     },
     "execution_count": 5,
     "metadata": {},
     "output_type": "execute_result"
    }
   ],
   "source": [
    "sentiment_df = pd.read_csv('test_quant.csv')\n",
    "sentiment_df.index = pd.to_datetime(sentiment_df['date'])\n",
    "sentiment_df.drop(columns=['date'])"
   ]
  },
  {
   "cell_type": "code",
   "execution_count": 7,
   "metadata": {},
   "outputs": [],
   "source": [
    "sentiment_df = sentiment_df[sentiment_df.index.isin(tsla_df.index)]\n",
    "\n",
    "tsla_df = tsla_df[tsla_df.index.isin(tsla_df.index.intersection(sentiment_df.index))]\n",
    "\n",
    "features = ['return','vix','rsi_ewma','rsi_sma','2_SMA','5_SMA','Close']\n",
    "\n",
    "tsla_df = tsla_df[features]\n",
    "\n",
    "tsla_df.to_csv('tsla_df_test.csv')\n",
    "sentiment_df.to_csv('sentiment_df_test.csv')"
   ]
  },
  {
   "cell_type": "code",
   "execution_count": 8,
   "metadata": {},
   "outputs": [],
   "source": [
    "def calc_fourier_transform(sentiment_df):\n",
    "    close_fft = np.fft.fft(np.asarray(sentiment_df['score'].tolist()))\n",
    "    fft_df = pd.DataFrame({'fft':close_fft})\n",
    "    fft_df['absolute'] = fft_df['fft'].apply(lambda x: np.abs(x))\n",
    "    fft_df['angle'] = fft_df['fft'].apply(lambda x: np.angle(x))\n",
    "    fft_list = np.asarray(fft_df['fft'].tolist())\n",
    "\n",
    "    for num_ in [5, 10, 15, 20]:\n",
    "        fft_list_m10= np.copy(fft_list); fft_list_m10[num_:-num_]=0\n",
    "        sentiment_df['fourier '+str(num_)]=np.fft.ifft(fft_list_m10)\n",
    "    \n",
    "    return sentiment_df"
   ]
  },
  {
   "cell_type": "code",
   "execution_count": 9,
   "metadata": {},
   "outputs": [],
   "source": [
    "sentiment_df = calc_fourier_transform(sentiment_df)"
   ]
  },
  {
   "cell_type": "code",
   "execution_count": 11,
   "metadata": {},
   "outputs": [],
   "source": [
    "tsla_df['sentiment'] = sentiment_df['fourier 20']\n",
    "tsla_df['sentiment_14_SMA'] = tsla_df['sentiment'].rolling(window=14).mean()\n",
    "\n",
    "tsla_df['upper_band'], tsla_df['lower_band'], tsla_df['upper_band_s'], tsla_df['lower_band_s'] = calc_bollinger_bands(tsla_df)"
   ]
  },
  {
   "cell_type": "code",
   "execution_count": 35,
   "metadata": {},
   "outputs": [],
   "source": [
    "def trading_history(stock, SMA, net, std=2):    \n",
    "    \n",
    "    # Bollinger band plot with EMA and original historical data\n",
    "    fig, ax1 = plt.subplots()\n",
    "    plt.figure(figsize=(16,5))\n",
    "    ax2 = ax1.twinx() \n",
    "    \n",
    "    plt.style.use('seaborn-whitegrid')\n",
    "    ax1.plot(stock.index, stock.Close, color='#3388cf', label='Price')\n",
    "    \n",
    "    ax1.plot(stock.index, stock.upper_band_s, color='#ffbd74', alpha=0.3)\n",
    "    ax1.plot(stock.index, stock.lower_band_s, color='#ffa33f', alpha=0.3)\n",
    "    \n",
    "    ax2.plot(stock.index, stock.sentiment, color='orange', label='Sentiment')\n",
    "    ax2.plot(stock.index, stock[SMA], color='#ad6eff', label='Moving Average: '+SMA)\n",
    "    ax2.fill_between(stock.index, stock.upper_band_s, stock.lower_band_s, color='#ffa33f', alpha=0.1, label='Bollinger Band ({} STD)'.format(std))\n",
    "    \n",
    "    plt.title('Trading History', fontSize=15)\n",
    "    plt.ylabel('Price', fontSize=12)\n",
    "    plt.xlim([stock.index.min(), stock.index.max()])\n",
    "    \n",
    "    for i in net:\n",
    "        if i[2] == 1: color = '#ff005e'\n",
    "        else: color = '#4bd81d'\n",
    "        ax1.plot_date(i[0], i[1], color=color)\n",
    "        \n",
    "    ax1.plot_date([],[],label='Buy', c='#ff005e')\n",
    "    ax1.plot_date([],[],label='Sell', c='#4bd81d')\n",
    "        \n",
    "    ax1.legend(frameon=True, loc=1, ncol=1, fontsize=10, borderpad=.6)\n",
    "    ax2.legend(frameon=True, loc=0, ncol=1, fontsize=10, borderpad=.6)\n",
    "    plt.show()"
   ]
  },
  {
   "cell_type": "code",
   "execution_count": 36,
   "metadata": {},
   "outputs": [],
   "source": [
    "def bb_trading(stock, metric, SMA, low_bol, up_bol, budget=15000, u=0.03, l=0.03, show_graph=True, show_return=True):\n",
    "    \n",
    "    money = budget\n",
    "    stock = stock.reset_index()\n",
    "    net = []\n",
    "    for i in range(len(stock)):\n",
    "        today = stock.iloc[i]\n",
    "        \n",
    "        # Buy\n",
    "        if (today[metric] > today[SMA]) and (abs(1 - today[metric] / today[low_bol]) > u):\n",
    "            if money > 0:\n",
    "                stock_amt = int(money / today.Close)\n",
    "                money = 0\n",
    "                net.append([today.Date, today.Close, 1, stock_amt * today.Close])\n",
    "                print(str(today.Date)+': Buy '+str(stock_amt)+' at '+str(round(today.Close,1))+' | $'+str(round(stock_amt*today.Close,1)))\n",
    "\n",
    "        # Sell        \n",
    "        if (today[metric] < today[SMA]) and (abs(1 - today[up_bol] / today[metric]) > l):\n",
    "            if money == 0:\n",
    "                money = stock_amt * today.Close\n",
    "                prev_stock_amt = stock_amt\n",
    "                stock_amt = 0\n",
    "                net.append([today.Date, today.Close, 0, money])\n",
    "                print(str(today.Date)+': Sell '+str(prev_stock_amt)+' at '+str(round(today.Close,1))+' | $'+str(round(money,1)))\n",
    "        \n",
    "    profit = net[-1][3] - budget\n",
    "    \n",
    "    if show_return == True:\n",
    "        print('Number of Trades: {}'.format(len(net)))\n",
    "        print('Time Frame: {} days'.format((net[-1][0] - net[0][0]).days))\n",
    "        print('Profit: ${:.2f} | {}%'.format(profit, round(profit/budget*100, 2)))\n",
    "\n",
    "    if show_graph == True:\n",
    "        trading_history(tsla_df, SMA, net)\n",
    "\n",
    "    return profit, net"
   ]
  },
  {
   "cell_type": "code",
   "execution_count": 37,
   "metadata": {},
   "outputs": [
    {
     "name": "stdout",
     "output_type": "stream",
     "text": [
      "2020-02-19 00:00:00: Buy 81 at 183.5 | $14862.2\n",
      "2020-02-28 00:00:00: Sell 81 at 133.6 | $10821.4\n",
      "2020-03-10 00:00:00: Buy 83 at 129.1 | $10712.5\n",
      "2020-03-23 00:00:00: Sell 83 at 86.9 | $7209.2\n",
      "2020-04-15 00:00:00: Buy 49 at 146.0 | $7152.3\n",
      "2020-05-06 00:00:00: Sell 49 at 156.5 | $7669.3\n",
      "2020-05-20 00:00:00: Buy 47 at 163.1 | $7666.3\n",
      "2020-06-05 00:00:00: Sell 47 at 177.1 | $8325.2\n",
      "2020-06-16 00:00:00: Buy 42 at 196.4 | $8249.9\n",
      "2020-07-01 00:00:00: Sell 42 at 223.9 | $9404.9\n",
      "2020-07-17 00:00:00: Buy 31 at 300.2 | $9305.2\n",
      "2020-08-03 00:00:00: Sell 31 at 297.0 | $9207.0\n",
      "2020-08-10 00:00:00: Buy 32 at 283.7 | $9078.8\n",
      "2020-08-28 00:00:00: Sell 32 at 442.7 | $14165.8\n",
      "2020-09-21 00:00:00: Buy 31 at 449.4 | $13931.1\n",
      "2020-10-16 00:00:00: Sell 31 at 439.7 | $13629.8\n",
      "2020-11-03 00:00:00: Buy 32 at 423.9 | $13564.8\n",
      "2020-11-11 00:00:00: Sell 32 at 417.1 | $13348.2\n",
      "2020-11-24 00:00:00: Buy 24 at 555.4 | $13329.1\n",
      "2020-12-07 00:00:00: Sell 24 at 641.8 | $15402.2\n",
      "2020-12-21 00:00:00: Buy 23 at 649.9 | $14946.8\n",
      "2020-12-31 00:00:00: Sell 23 at 705.7 | $16230.4\n",
      "2021-01-08 00:00:00: Buy 18 at 880.0 | $15840.4\n",
      "2021-01-19 00:00:00: Sell 18 at 844.5 | $15201.9\n",
      "Number of Trades: 24\n",
      "Time Frame: 335 days\n",
      "Profit: $201.90 | 1.35%\n"
     ]
    },
    {
     "name": "stderr",
     "output_type": "stream",
     "text": [
      "/Users/mahiroberai/opt/anaconda3/lib/python3.7/site-packages/numpy/core/_asarray.py:85: ComplexWarning: Casting complex values to real discards the imaginary part\n",
      "  return array(a, dtype, copy=False, order=order)\n"
     ]
    },
    {
     "data": {
      "image/png": "[encoded data removed]",
      "text/plain": [
       "<Figure size 432x288 with 2 Axes>"
      ]
     },
     "metadata": {},
     "output_type": "display_data"
    },
    {
     "data": {
      "image/png": "[encoded data removed]",
      "text/plain": [
       "<Figure size 1152x360 with 1 Axes>"
      ]
     },
     "metadata": {},
     "output_type": "display_data"
    }
   ],
   "source": [
    "profit, trades = bb_trading(tsla_df, 'sentiment', 'sentiment_14_SMA', 'lower_band_s', 'upper_band_s', u=0.03, l=0.03)"
   ]
  },
  {
   "cell_type": "code",
   "execution_count": null,
   "metadata": {},
   "outputs": [],
   "source": [
    "tsla_df"
   ]
  },
  {
   "cell_type": "code",
   "execution_count": null,
   "metadata": {},
   "outputs": [],
   "source": []
  }
 ],
 "metadata": {
  "kernelspec": {
   "display_name": "Python 3",
   "language": "python",
   "name": "python3"
  },
  "language_info": {
   "codemirror_mode": {
    "name": "ipython",
    "version": 3
   },
   "file_extension": ".py",
   "mimetype": "text/x-python",
   "name": "python",
   "nbconvert_exporter": "python",
   "pygments_lexer": "ipython3",
   "version": "3.7.4"
  }
 },
 "nbformat": 4,
 "nbformat_minor": 2
}
